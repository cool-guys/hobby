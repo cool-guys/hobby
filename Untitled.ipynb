{
 "cells": [
  {
   "cell_type": "code",
   "execution_count": 2,
   "metadata": {},
   "outputs": [
    {
     "name": "stderr",
     "output_type": "stream",
     "text": [
      "Using TensorFlow backend.\n"
     ]
    }
   ],
   "source": [
    "import numpy as np\n",
    "import cv2\n",
    "from sklearn.model_selection import train_test_split\n",
    "from sklearn.preprocessing import MinMaxScaler\n",
    "import keras\n",
    "from keras.models import Sequential\n",
    "from keras.layers import *\n",
    "from keras.layers.convolutional import Conv2D, MaxPooling2D\n",
    "from keras.models import Sequential,Model\n",
    "import tensorflow as tf\n",
    "import keras.backend.tensorflow_backend as K\n",
    "import matplotlib.pyplot as plt\n",
    "from imageloader import data_process\n",
    "from keras.callbacks import ModelCheckpoint\n",
    "from keras.models import load_model"
   ]
  },
  {
   "cell_type": "code",
   "execution_count": null,
   "metadata": {},
   "outputs": [
    {
     "name": "stdout",
     "output_type": "stream",
     "text": [
      "--- 28.132823944091797 seconds ---\n",
      "0\n"
     ]
    }
   ],
   "source": [
    "number = False\n",
    "\n",
    "\n",
    "if(number):\n",
    "  dp = data_process('./DATA/aug/all/train/number',number)\n",
    "  dp.point_data_load()\n",
    "  #dp.image_read()\n",
    "  dp.sequence_50()\n",
    "  dp.image_make()\n",
    "  dp.data_shuffle()\n",
    "\n",
    "  class_num = 10\n",
    "\n",
    "else:\n",
    "  dp_train = data_process('./DATA/aug/all/train/Alphabet',number)\n",
    "  dp_train.point_data_load()\n",
    "  #dp.image_read()\n",
    "  dp_train.sequence_50()\n",
    "  dp_train.image_make()\n",
    "  dp_train.data_shuffle()\n",
    "  \n",
    "  dp_test = data_process('./DATA/aug/all/test/Alphabet',number)\n",
    "  dp_test.point_data_load()\n",
    "  #dp.image_read()\n",
    "  dp_test.sequence_50()\n",
    "  dp_test.image_make()\n",
    "  dp_test.data_shuffle()\n",
    " \n",
    "  class_num = 26\n",
    "\n",
    "\n",
    "X_train = dp_train.images[:]\n",
    "X_test = dp_test.images[:]\n",
    "Y_train = dp_train.label[:]\n",
    "Y_test = dp_test.label[:]\n",
    "\n",
    "\n",
    "Y_train = keras.utils.to_categorical(Y_train,num_classes=class_num, dtype='float32')\n",
    "Y_test = keras.utils.to_categorical(Y_test,num_classes=class_num, dtype='float32')"
   ]
  },
  {
   "cell_type": "code",
   "execution_count": null,
   "metadata": {},
   "outputs": [],
   "source": [
    "# cudnn 오류 해결용(RTX에서만 생기는 문제로 보임))\n",
    "config = tf.ConfigProto()\n",
    "config.gpu_options.allow_growth = True\n",
    "sess = tf.Session(config=config)\n",
    "\n",
    "model = load_model('./model/cnn_alpha.hdf5')\n",
    "\n",
    "layer_outputs = [layer.output for layer in model.layers]\n",
    "activation_model = Model(inputs=model.input, outputs=layer_outputs)\n",
    "activations = activation_model.predict(X_train[320].reshape(1,28,28,1))"
   ]
  },
  {
   "cell_type": "code",
   "execution_count": null,
   "metadata": {},
   "outputs": [],
   "source": [
    "def display_activation(activations, col_size, row_size, act_index): \n",
    "    activation = activations[act_index]\n",
    "    activation_index=0\n",
    "    fig, ax = plt.subplots(row_size, col_size, figsize=(row_size*2.5,col_size*1.5))\n",
    "    for row in range(0,row_size):\n",
    "        for col in range(0,col_size):\n",
    "            ax[row][col].imshow(activation[0, :, :, activation_index], cmap='gray')\n",
    "            activation_index += 1\n",
    "    plt.axis('off')\n"
   ]
  },
  {
   "cell_type": "code",
   "execution_count": null,
   "metadata": {},
   "outputs": [],
   "source": [
    "display_activation(activations, 4, 8, 1)"
   ]
  },
  {
   "cell_type": "code",
   "execution_count": null,
   "metadata": {},
   "outputs": [],
   "source": [
    "display_activation(activations, 4, 8, 5)"
   ]
  },
  {
   "cell_type": "code",
   "execution_count": null,
   "metadata": {},
   "outputs": [],
   "source": []
  }
 ],
 "metadata": {
  "kernelspec": {
   "display_name": "Python 3",
   "language": "python",
   "name": "python3"
  },
  "language_info": {
   "codemirror_mode": {
    "name": "ipython",
    "version": 3
   },
   "file_extension": ".py",
   "mimetype": "text/x-python",
   "name": "python",
   "nbconvert_exporter": "python",
   "pygments_lexer": "ipython3",
   "version": "3.6.8"
  }
 },
 "nbformat": 4,
 "nbformat_minor": 2
}
